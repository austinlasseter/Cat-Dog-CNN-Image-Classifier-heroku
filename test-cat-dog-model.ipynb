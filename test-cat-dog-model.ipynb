{
 "cells": [
  {
   "cell_type": "code",
   "execution_count": null,
   "id": "ff49fbd5",
   "metadata": {},
   "outputs": [],
   "source": [
    "# ! conda install -c conda-forge tensorflow -y"
   ]
  },
  {
   "cell_type": "code",
   "execution_count": 3,
   "id": "78ddc339",
   "metadata": {},
   "outputs": [
    {
     "name": "stdout",
     "output_type": "stream",
     "text": [
      "Collecting package metadata (current_repodata.json): done\n",
      "Solving environment: failed with initial frozen solve. Retrying with flexible solve.\n",
      "Solving environment: failed with repodata from current_repodata.json, will retry with next repodata source.\n",
      "Collecting package metadata (repodata.json): done\n",
      "Solving environment: done\n",
      "\n",
      "\n",
      "==> WARNING: A newer version of conda exists. <==\n",
      "  current version: 4.12.0\n",
      "  latest version: 4.13.0\n",
      "\n",
      "Please update conda by running\n",
      "\n",
      "    $ conda update -n base conda\n",
      "\n",
      "\n",
      "\n",
      "## Package Plan ##\n",
      "\n",
      "  environment location: /Users/champions2019/opt/anaconda3\n",
      "\n",
      "  added / updated specs:\n",
      "    - opencv\n",
      "\n",
      "\n",
      "The following packages will be downloaded:\n",
      "\n",
      "    package                    |            build\n",
      "    ---------------------------|-----------------\n",
      "    cairo-1.16.0               |    he43a7df_1008         1.3 MB  conda-forge\n",
      "    ffmpeg-4.3.2               |       h4dad6da_0        49.3 MB  conda-forge\n",
      "    fontconfig-2.13.94         |       h10f422b_0         285 KB  conda-forge\n",
      "    gnutls-3.6.13              |       h756fd2b_1         2.0 MB  conda-forge\n",
      "    graphite2-1.3.13           |    h2e338ed_1001          85 KB  conda-forge\n",
      "    harfbuzz-2.9.1             |       h159f659_1         1.8 MB  conda-forge\n",
      "    jasper-1.900.1             |    h636a363_1006         283 KB  conda-forge\n",
      "    lame-3.100                 |    h35c211d_1001         521 KB  conda-forge\n",
      "    libblas-3.9.0              |     12_osx64_mkl          12 KB  conda-forge\n",
      "    libcblas-3.9.0             |     12_osx64_mkl          12 KB  conda-forge\n",
      "    liblapack-3.9.0            |     12_osx64_mkl          12 KB  conda-forge\n",
      "    liblapacke-3.9.0           |     12_osx64_mkl          12 KB  conda-forge\n",
      "    libopencv-4.5.2            |   py39h49f8dfa_0        29.6 MB  conda-forge\n",
      "    nettle-3.6                 |       hedd7734_0         1.2 MB  conda-forge\n",
      "    opencv-4.5.2               |   py39h6e9494a_0          21 KB  conda-forge\n",
      "    openh264-2.1.1             |       hfd3ada9_0         1.5 MB  conda-forge\n",
      "    pixman-0.40.0              |       hbcb3906_0         615 KB  conda-forge\n",
      "    py-opencv-4.5.2            |   py39h71a6800_0         1.1 MB  conda-forge\n",
      "    x264-1!161.3030            |       h0d85af4_1         2.5 MB  conda-forge\n",
      "    ------------------------------------------------------------\n",
      "                                           Total:        92.1 MB\n",
      "\n",
      "The following NEW packages will be INSTALLED:\n",
      "\n",
      "  cairo              conda-forge/osx-64::cairo-1.16.0-he43a7df_1008\n",
      "  ffmpeg             conda-forge/osx-64::ffmpeg-4.3.2-h4dad6da_0\n",
      "  fontconfig         conda-forge/osx-64::fontconfig-2.13.94-h10f422b_0\n",
      "  gnutls             conda-forge/osx-64::gnutls-3.6.13-h756fd2b_1\n",
      "  graphite2          conda-forge/osx-64::graphite2-1.3.13-h2e338ed_1001\n",
      "  harfbuzz           conda-forge/osx-64::harfbuzz-2.9.1-h159f659_1\n",
      "  jasper             conda-forge/osx-64::jasper-1.900.1-h636a363_1006\n",
      "  lame               conda-forge/osx-64::lame-3.100-h35c211d_1001\n",
      "  libblas            conda-forge/osx-64::libblas-3.9.0-12_osx64_mkl\n",
      "  libcblas           conda-forge/osx-64::libcblas-3.9.0-12_osx64_mkl\n",
      "  liblapack          conda-forge/osx-64::liblapack-3.9.0-12_osx64_mkl\n",
      "  liblapacke         conda-forge/osx-64::liblapacke-3.9.0-12_osx64_mkl\n",
      "  libopencv          conda-forge/osx-64::libopencv-4.5.2-py39h49f8dfa_0\n",
      "  nettle             conda-forge/osx-64::nettle-3.6-hedd7734_0\n",
      "  opencv             conda-forge/osx-64::opencv-4.5.2-py39h6e9494a_0\n",
      "  openh264           conda-forge/osx-64::openh264-2.1.1-hfd3ada9_0\n",
      "  pixman             conda-forge/osx-64::pixman-0.40.0-hbcb3906_0\n",
      "  py-opencv          conda-forge/osx-64::py-opencv-4.5.2-py39h71a6800_0\n",
      "  x264               conda-forge/osx-64::x264-1!161.3030-h0d85af4_1\n",
      "\n",
      "\n",
      "\n",
      "Downloading and Extracting Packages\n",
      "pixman-0.40.0        | 615 KB    | ##################################### | 100% \n",
      "opencv-4.5.2         | 21 KB     | ##################################### | 100% \n",
      "cairo-1.16.0         | 1.3 MB    | ##################################### | 100% \n",
      "lame-3.100           | 521 KB    | ##################################### | 100% \n",
      "libcblas-3.9.0       | 12 KB     | ##################################### | 100% \n",
      "liblapack-3.9.0      | 12 KB     | ##################################### | 100% \n",
      "libopencv-4.5.2      | 29.6 MB   | ##################################### | 100% \n",
      "ffmpeg-4.3.2         | 49.3 MB   | ##################################### | 100% \n",
      "openh264-2.1.1       | 1.5 MB    | ##################################### | 100% \n",
      "harfbuzz-2.9.1       | 1.8 MB    | ##################################### | 100% \n",
      "nettle-3.6           | 1.2 MB    | ##################################### | 100% \n",
      "x264-1!161.3030      | 2.5 MB    | ##################################### | 100% \n",
      "liblapacke-3.9.0     | 12 KB     | ##################################### | 100% \n",
      "graphite2-1.3.13     | 85 KB     | ##################################### | 100% \n",
      "libblas-3.9.0        | 12 KB     | ##################################### | 100% \n",
      "py-opencv-4.5.2      | 1.1 MB    | ##################################### | 100% \n",
      "jasper-1.900.1       | 283 KB    | ##################################### | 100% \n",
      "fontconfig-2.13.94   | 285 KB    | ##################################### | 100% \n",
      "gnutls-3.6.13        | 2.0 MB    | ##################################### | 100% \n",
      "Preparing transaction: done\n",
      "Verifying transaction: done\n",
      "Executing transaction: done\n"
     ]
    }
   ],
   "source": [
    "! conda install -c conda-forge opencv -y"
   ]
  },
  {
   "cell_type": "code",
   "execution_count": 1,
   "id": "bae65b5e",
   "metadata": {},
   "outputs": [
    {
     "ename": "ModuleNotFoundError",
     "evalue": "No module named 'cv2'",
     "output_type": "error",
     "traceback": [
      "\u001b[0;31m---------------------------------------------------------------------------\u001b[0m",
      "\u001b[0;31mModuleNotFoundError\u001b[0m                       Traceback (most recent call last)",
      "Input \u001b[0;32mIn [1]\u001b[0m, in \u001b[0;36m<cell line: 6>\u001b[0;34m()\u001b[0m\n\u001b[1;32m      3\u001b[0m \u001b[38;5;28;01mfrom\u001b[39;00m \u001b[38;5;21;01mtensorflow\u001b[39;00m\u001b[38;5;21;01m.\u001b[39;00m\u001b[38;5;21;01mkeras\u001b[39;00m\u001b[38;5;21;01m.\u001b[39;00m\u001b[38;5;21;01mmodels\u001b[39;00m \u001b[38;5;28;01mimport\u001b[39;00m load_model\n\u001b[1;32m      4\u001b[0m \u001b[38;5;28;01mfrom\u001b[39;00m \u001b[38;5;21;01mtensorflow\u001b[39;00m\u001b[38;5;21;01m.\u001b[39;00m\u001b[38;5;21;01mkeras\u001b[39;00m\u001b[38;5;21;01m.\u001b[39;00m\u001b[38;5;21;01mpreprocessing\u001b[39;00m \u001b[38;5;28;01mimport\u001b[39;00m image\n\u001b[0;32m----> 6\u001b[0m \u001b[38;5;28;01mimport\u001b[39;00m \u001b[38;5;21;01mcv2\u001b[39;00m\n",
      "\u001b[0;31mModuleNotFoundError\u001b[0m: No module named 'cv2'"
     ]
    }
   ],
   "source": [
    "import numpy as np\n",
    "import tensorflow as tf\n",
    "from tensorflow.keras.models import load_model\n",
    "from tensorflow.keras.preprocessing import image\n",
    "\n",
    "import cv2\n"
   ]
  },
  {
   "cell_type": "code",
   "execution_count": null,
   "id": "bffd3837",
   "metadata": {},
   "outputs": [],
   "source": [
    "\n",
    "model = load_model('./DVC.h5',compile=True)\n",
    "\n",
    "# model.compile(loss='binary_crossentropy',\n",
    "#               optimizer='adam',\n",
    "#               metrics=['accuracy'])\n",
    "\n"
   ]
  },
  {
   "cell_type": "code",
   "execution_count": null,
   "id": "79a1a543",
   "metadata": {},
   "outputs": [],
   "source": [
    "img = image.load_img('../input/catsdog-10000/dataset/test_set/dogs/dog.4001.jpg', target_size=(64, 64))\n",
    "# img = cv2.resize(img,(64,64))\n"
   ]
  },
  {
   "cell_type": "code",
   "execution_count": null,
   "id": "956c67c1",
   "metadata": {},
   "outputs": [],
   "source": [
    "img = np.reshape(img,[1,64,64,3])\n",
    "image = tf.cast(img, tf.float32)\n"
   ]
  },
  {
   "cell_type": "code",
   "execution_count": null,
   "id": "1aec090e",
   "metadata": {},
   "outputs": [],
   "source": [
    "cl = model.predict(image)\n",
    "# classes = (model.predict(img) > 0.5).astype(\"int32\")\n",
    "\n",
    "# img = cv2.imread('/content/drive/MyDrive/dataset/training_set/dogs/dog.1.jpg')\n",
    "# img = cv2.resize(img,(64,64))\n",
    "# img = np.reshape(img,[1,64,64,3])"
   ]
  },
  {
   "cell_type": "code",
   "execution_count": null,
   "id": "316e6a8b",
   "metadata": {},
   "outputs": [],
   "source": [
    "classes = (cl>0.5).astype(\"int32\")\n",
    "if classes[0][0] == 1:\n",
    "  print(\"DOG\")\n",
    "else: \n",
    "  print(\"CAT\")"
   ]
  }
 ],
 "metadata": {
  "kernelspec": {
   "display_name": "Python 3 (ipykernel)",
   "language": "python",
   "name": "python3"
  },
  "language_info": {
   "codemirror_mode": {
    "name": "ipython",
    "version": 3
   },
   "file_extension": ".py",
   "mimetype": "text/x-python",
   "name": "python",
   "nbconvert_exporter": "python",
   "pygments_lexer": "ipython3",
   "version": "3.9.7"
  }
 },
 "nbformat": 4,
 "nbformat_minor": 5
}
