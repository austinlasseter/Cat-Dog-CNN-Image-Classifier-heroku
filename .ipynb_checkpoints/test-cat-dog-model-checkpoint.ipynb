{
 "cells": [
  {
   "cell_type": "code",
   "execution_count": null,
   "id": "ff49fbd5",
   "metadata": {},
   "outputs": [],
   "source": [
    "# ! conda install -c conda-forge tensorflow -y"
   ]
  },
  {
   "cell_type": "code",
   "execution_count": null,
   "id": "78ddc339",
   "metadata": {},
   "outputs": [],
   "source": [
    "# ! conda install -c conda-forge opencv -y"
   ]
  },
  {
   "cell_type": "code",
   "execution_count": 1,
   "id": "bae65b5e",
   "metadata": {},
   "outputs": [],
   "source": [
    "import numpy as np\n",
    "import tensorflow as tf\n",
    "from tensorflow.keras.models import load_model\n",
    "from tensorflow.keras.preprocessing import image\n",
    "import cv2"
   ]
  },
  {
   "cell_type": "code",
   "execution_count": 2,
   "id": "bffd3837",
   "metadata": {},
   "outputs": [
    {
     "name": "stderr",
     "output_type": "stream",
     "text": [
      "2022-06-28 11:40:26.175481: I tensorflow/core/platform/cpu_feature_guard.cc:151] This TensorFlow binary is optimized with oneAPI Deep Neural Network Library (oneDNN) to use the following CPU instructions in performance-critical operations:  SSE4.1 SSE4.2 AVX AVX2 AVX512F FMA\n",
      "To enable them in other operations, rebuild TensorFlow with the appropriate compiler flags.\n"
     ]
    }
   ],
   "source": [
    "model = load_model('DVC2.h5',compile=True)"
   ]
  },
  {
   "cell_type": "code",
   "execution_count": 10,
   "id": "c1c03320",
   "metadata": {},
   "outputs": [],
   "source": [
    "def make_prediction(photo):\n",
    "    img = image.load_img(photo, target_size=(64, 64))\n",
    "    img = np.reshape(img,[1,64,64,3])\n",
    "    img = tf.cast(img, tf.float32)\n",
    "    y_pred = model.predict(img)\n",
    "    print(y_pred.shape)\n",
    "    print(y_pred)\n",
    "    classes = (y_pred>0.5).astype(\"int32\")\n",
    "    if classes[0][0] == 1:\n",
    "      print(\"DOG\")\n",
    "    else: \n",
    "      print(\"CAT\")"
   ]
  },
  {
   "cell_type": "code",
   "execution_count": 11,
   "id": "bedfa635-4c74-453f-812d-7cc14f0d4cef",
   "metadata": {},
   "outputs": [
    {
     "name": "stdout",
     "output_type": "stream",
     "text": [
      "(1, 1)\n",
      "[[0.]]\n",
      "CAT\n"
     ]
    }
   ],
   "source": [
    "make_prediction('Image/cat.jpg')"
   ]
  },
  {
   "cell_type": "code",
   "execution_count": 12,
   "id": "7c6cd806-d68b-49a0-b8df-3a3db6515b07",
   "metadata": {},
   "outputs": [
    {
     "name": "stdout",
     "output_type": "stream",
     "text": [
      "(1, 1)\n",
      "[[1.]]\n",
      "DOG\n"
     ]
    }
   ],
   "source": [
    "make_prediction('Image/dog.jpg')"
   ]
  },
  {
   "cell_type": "code",
   "execution_count": 13,
   "id": "d615a4ab-537b-4423-a687-22a1eb2a7a48",
   "metadata": {},
   "outputs": [
    {
     "name": "stdout",
     "output_type": "stream",
     "text": [
      "(1, 1)\n",
      "[[1.]]\n",
      "DOG\n"
     ]
    }
   ],
   "source": [
    "make_prediction('Image/duck.jpg')"
   ]
  },
  {
   "cell_type": "code",
   "execution_count": 14,
   "id": "dc809c6c-043d-461d-887b-e0a5f73e1829",
   "metadata": {},
   "outputs": [
    {
     "name": "stdout",
     "output_type": "stream",
     "text": [
      "(1, 1)\n",
      "[[0.]]\n",
      "CAT\n"
     ]
    }
   ],
   "source": [
    "make_prediction('Image/banana.jpg')"
   ]
  },
  {
   "cell_type": "code",
   "execution_count": null,
   "id": "2055d55e-50d5-44e3-9834-bfee312006ca",
   "metadata": {},
   "outputs": [],
   "source": []
  }
 ],
 "metadata": {
  "kernelspec": {
   "display_name": "default:Python",
   "language": "python",
   "name": "conda-env-default-py"
  },
  "language_info": {
   "codemirror_mode": {
    "name": "ipython",
    "version": 3
   },
   "file_extension": ".py",
   "mimetype": "text/x-python",
   "name": "python",
   "nbconvert_exporter": "python",
   "pygments_lexer": "ipython3",
   "version": "3.9.10"
  }
 },
 "nbformat": 4,
 "nbformat_minor": 5
}
